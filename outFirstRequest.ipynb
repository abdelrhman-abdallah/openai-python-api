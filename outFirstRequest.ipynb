{
 "cells": [
  {
   "cell_type": "code",
   "execution_count": 3,
   "id": "d6e60b8c-2f80-4271-b73b-4741a82d5735",
   "metadata": {},
   "outputs": [
    {
     "name": "stdout",
     "output_type": "stream",
     "text": [
      "Requirement already satisfied: openai in c:\\users\\mohamed\\.conda\\envs\\pythonapi\\lib\\site-packages (1.97.1)\n",
      "Requirement already satisfied: anyio<5,>=3.5.0 in c:\\users\\mohamed\\.conda\\envs\\pythonapi\\lib\\site-packages (from openai) (4.9.0)\n",
      "Requirement already satisfied: distro<2,>=1.7.0 in c:\\users\\mohamed\\.conda\\envs\\pythonapi\\lib\\site-packages (from openai) (1.9.0)\n",
      "Requirement already satisfied: httpx<1,>=0.23.0 in c:\\users\\mohamed\\.conda\\envs\\pythonapi\\lib\\site-packages (from openai) (0.28.1)\n",
      "Requirement already satisfied: jiter<1,>=0.4.0 in c:\\users\\mohamed\\.conda\\envs\\pythonapi\\lib\\site-packages (from openai) (0.10.0)\n",
      "Requirement already satisfied: pydantic<3,>=1.9.0 in c:\\users\\mohamed\\.conda\\envs\\pythonapi\\lib\\site-packages (from openai) (2.11.7)\n",
      "Requirement already satisfied: sniffio in c:\\users\\mohamed\\.conda\\envs\\pythonapi\\lib\\site-packages (from openai) (1.3.1)\n",
      "Requirement already satisfied: tqdm>4 in c:\\users\\mohamed\\.conda\\envs\\pythonapi\\lib\\site-packages (from openai) (4.67.1)\n",
      "Requirement already satisfied: typing-extensions<5,>=4.11 in c:\\users\\mohamed\\.conda\\envs\\pythonapi\\lib\\site-packages (from openai) (4.14.1)\n",
      "Requirement already satisfied: idna>=2.8 in c:\\users\\mohamed\\.conda\\envs\\pythonapi\\lib\\site-packages (from anyio<5,>=3.5.0->openai) (3.10)\n",
      "Requirement already satisfied: certifi in c:\\users\\mohamed\\.conda\\envs\\pythonapi\\lib\\site-packages (from httpx<1,>=0.23.0->openai) (2025.7.14)\n",
      "Requirement already satisfied: httpcore==1.* in c:\\users\\mohamed\\.conda\\envs\\pythonapi\\lib\\site-packages (from httpx<1,>=0.23.0->openai) (1.0.9)\n",
      "Requirement already satisfied: h11>=0.16 in c:\\users\\mohamed\\.conda\\envs\\pythonapi\\lib\\site-packages (from httpcore==1.*->httpx<1,>=0.23.0->openai) (0.16.0)\n",
      "Requirement already satisfied: annotated-types>=0.6.0 in c:\\users\\mohamed\\.conda\\envs\\pythonapi\\lib\\site-packages (from pydantic<3,>=1.9.0->openai) (0.7.0)\n",
      "Requirement already satisfied: pydantic-core==2.33.2 in c:\\users\\mohamed\\.conda\\envs\\pythonapi\\lib\\site-packages (from pydantic<3,>=1.9.0->openai) (2.33.2)\n",
      "Requirement already satisfied: typing-inspection>=0.4.0 in c:\\users\\mohamed\\.conda\\envs\\pythonapi\\lib\\site-packages (from pydantic<3,>=1.9.0->openai) (0.4.1)\n",
      "Requirement already satisfied: colorama in c:\\users\\mohamed\\.conda\\envs\\pythonapi\\lib\\site-packages (from tqdm>4->openai) (0.4.6)\n",
      "Note: you may need to restart the kernel to use updated packages.\n",
      "Requirement already satisfied: python-dotenv in c:\\users\\mohamed\\.conda\\envs\\pythonapi\\lib\\site-packages (1.1.1)\n",
      "Note: you may need to restart the kernel to use updated packages.\n"
     ]
    }
   ],
   "source": [
    "%pip install openai\n",
    "%pip install python-dotenv\n"
   ]
  },
  {
   "cell_type": "markdown",
   "id": "bdbf5547",
   "metadata": {},
   "source": [
    "# Security and Environment Setup\n",
    "\n",
    "⚠️ **Important Security Warnings**:\n",
    "- Never commit your `.env` file to version control\n",
    "- Keep your API key secure and do not share it\n",
    "- Monitor your API usage regularly\n",
    "- Use environment variables for sensitive data\n",
    "\n",
    "The following code demonstrates secure handling of API keys and proper error handling when using the OpenAI API."
   ]
  },
  {
   "cell_type": "code",
   "execution_count": null,
   "id": "95c0194e-9406-420b-b2b0-c4f5df85f3aa",
   "metadata": {},
   "outputs": [],
   "source": [
    "from openai import OpenAI\n",
    "from dotenv import load_dotenv\n",
    "import os"
   ]
  },
  {
   "cell_type": "code",
   "execution_count": null,
   "id": "05d335d7-60b7-4ad7-a1ec-f8bcbe8e1105",
   "metadata": {},
   "outputs": [],
   "source": [
    "# Load environment variables from .env file\n",
    "load_dotenv()\n",
    "\n",
    "# Get API key and validate it exists\n",
    "api_key = os.getenv(\"OPENAI_API_KEY\")\n",
    "if not api_key:\n",
    "    raise ValueError(\"OPENAI_API_KEY not found in environment variables. Please check your .env file.\")\n",
    "\n",
    "# Initialize the OpenAI client\n",
    "client = OpenAI(api_key=api_key)"
   ]
  },
  {
   "cell_type": "code",
   "execution_count": null,
   "id": "4dc8db64-228b-4f0a-a75c-11fc9712bf09",
   "metadata": {},
   "outputs": [],
   "source": [
    "try:\n",
    "    response = client.chat.completions.create(\n",
    "        model=\"gpt-4\",  # Make sure to use an available model\n",
    "        messages=[\n",
    "            {\"role\": \"user\", \"content\": \"top 10 movies of all time:\"}\n",
    "        ],\n",
    "        max_tokens=100\n",
    "    )\n",
    "    # Print the response\n",
    "    print(response.choices[0].message.content)\n",
    "\n",
    "except openai.RateLimitError:\n",
    "    print(\"Rate limit exceeded. Please wait a while before trying again.\")\n",
    "except openai.APIError as e:\n",
    "    print(f\"OpenAI API error occurred: {str(e)}\")\n",
    "except Exception as e:\n",
    "    print(f\"An unexpected error occurred: {str(e)}\")"
   ]
  },
  {
   "cell_type": "code",
   "execution_count": 11,
   "id": "e578b0d3-a36e-4c86-9709-f62acae1861b",
   "metadata": {},
   "outputs": [
    {
     "name": "stdout",
     "output_type": "stream",
     "text": [
      "Completion(id='cmpl-BxxS7hcaVIQe8277te11pUkrU8tY6', choices=[CompletionChoice(finish_reason='length', index=0, logprobs=None, text='1. titanic, 2. the godfather, 3. the shawshank redemption, 4. orumn man, 5. the dark knight, 6. 12 angry man, 7. schindler\\'s list, 8. the lord of the rings, 9. fight club, 10.blood diamond\" Important note, you forgot to check the ranking numbers. Please enter numbers as follows: 1. Titanic, 2. The God')], created=1753629587, model='gpt-4o-mini-2024-07-18', object='completion', system_fingerprint='fp_34a54ae93c', usage=CompletionUsage(completion_tokens=100, prompt_tokens=9, total_tokens=109, completion_tokens_details=CompletionTokensDetails(accepted_prediction_tokens=0, audio_tokens=0, reasoning_tokens=0, rejected_prediction_tokens=0), prompt_tokens_details=PromptTokensDetails(audio_tokens=0, cached_tokens=0)))\n"
     ]
    }
   ],
   "source": []
  },
  {
   "cell_type": "code",
   "execution_count": null,
   "id": "e578b0d3-a36e-4c86-9709-f62acae1861b",
   "metadata": {},
   "outputs": [],
   "source": []
  }
 ],
 "metadata": {
  "kernelspec": {
   "display_name": "pythonapi",
   "language": "python",
   "name": "python3"
  },
  "language_info": {
   "codemirror_mode": {
    "name": "ipython",
    "version": 3
   },
   "file_extension": ".py",
   "mimetype": "text/x-python",
   "name": "python",
   "nbconvert_exporter": "python",
   "pygments_lexer": "ipython3",
   "version": "3.12.11"
  }
 },
 "nbformat": 4,
 "nbformat_minor": 5
}
