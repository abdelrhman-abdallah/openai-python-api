{
 "cells": [
  {
   "cell_type": "code",
   "execution_count": 3,
   "id": "d6e60b8c-2f80-4271-b73b-4741a82d5735",
   "metadata": {},
   "outputs": [
    {
     "name": "stdout",
     "output_type": "stream",
     "text": [
      "Requirement already satisfied: openai in c:\\users\\mohamed\\.conda\\envs\\pythonapi\\lib\\site-packages (1.97.1)\n",
      "Requirement already satisfied: anyio<5,>=3.5.0 in c:\\users\\mohamed\\.conda\\envs\\pythonapi\\lib\\site-packages (from openai) (4.9.0)\n",
      "Requirement already satisfied: distro<2,>=1.7.0 in c:\\users\\mohamed\\.conda\\envs\\pythonapi\\lib\\site-packages (from openai) (1.9.0)\n",
      "Requirement already satisfied: httpx<1,>=0.23.0 in c:\\users\\mohamed\\.conda\\envs\\pythonapi\\lib\\site-packages (from openai) (0.28.1)\n",
      "Requirement already satisfied: jiter<1,>=0.4.0 in c:\\users\\mohamed\\.conda\\envs\\pythonapi\\lib\\site-packages (from openai) (0.10.0)\n",
      "Requirement already satisfied: pydantic<3,>=1.9.0 in c:\\users\\mohamed\\.conda\\envs\\pythonapi\\lib\\site-packages (from openai) (2.11.7)\n",
      "Requirement already satisfied: sniffio in c:\\users\\mohamed\\.conda\\envs\\pythonapi\\lib\\site-packages (from openai) (1.3.1)\n",
      "Requirement already satisfied: tqdm>4 in c:\\users\\mohamed\\.conda\\envs\\pythonapi\\lib\\site-packages (from openai) (4.67.1)\n",
      "Requirement already satisfied: typing-extensions<5,>=4.11 in c:\\users\\mohamed\\.conda\\envs\\pythonapi\\lib\\site-packages (from openai) (4.14.1)\n",
      "Requirement already satisfied: idna>=2.8 in c:\\users\\mohamed\\.conda\\envs\\pythonapi\\lib\\site-packages (from anyio<5,>=3.5.0->openai) (3.10)\n",
      "Requirement already satisfied: certifi in c:\\users\\mohamed\\.conda\\envs\\pythonapi\\lib\\site-packages (from httpx<1,>=0.23.0->openai) (2025.7.14)\n",
      "Requirement already satisfied: httpcore==1.* in c:\\users\\mohamed\\.conda\\envs\\pythonapi\\lib\\site-packages (from httpx<1,>=0.23.0->openai) (1.0.9)\n",
      "Requirement already satisfied: h11>=0.16 in c:\\users\\mohamed\\.conda\\envs\\pythonapi\\lib\\site-packages (from httpcore==1.*->httpx<1,>=0.23.0->openai) (0.16.0)\n",
      "Requirement already satisfied: annotated-types>=0.6.0 in c:\\users\\mohamed\\.conda\\envs\\pythonapi\\lib\\site-packages (from pydantic<3,>=1.9.0->openai) (0.7.0)\n",
      "Requirement already satisfied: pydantic-core==2.33.2 in c:\\users\\mohamed\\.conda\\envs\\pythonapi\\lib\\site-packages (from pydantic<3,>=1.9.0->openai) (2.33.2)\n",
      "Requirement already satisfied: typing-inspection>=0.4.0 in c:\\users\\mohamed\\.conda\\envs\\pythonapi\\lib\\site-packages (from pydantic<3,>=1.9.0->openai) (0.4.1)\n",
      "Requirement already satisfied: colorama in c:\\users\\mohamed\\.conda\\envs\\pythonapi\\lib\\site-packages (from tqdm>4->openai) (0.4.6)\n",
      "Note: you may need to restart the kernel to use updated packages.\n",
      "Requirement already satisfied: python-dotenv in c:\\users\\mohamed\\.conda\\envs\\pythonapi\\lib\\site-packages (1.1.1)\n",
      "Note: you may need to restart the kernel to use updated packages.\n"
     ]
    }
   ],
   "source": [
    "%pip install openai\n",
    "%pip install python-dotenv\n"
   ]
  },
  {
   "cell_type": "markdown",
   "id": "bdbf5547",
   "metadata": {},
   "source": [
    "# Security and Environment Setup\n",
    "\n",
    "⚠️ **Important Security Warnings**:\n",
    "- Never commit your `.env` file to version control\n",
    "- Keep your API key secure and do not share it\n",
    "- Monitor your API usage regularly\n",
    "- Use environment variables for sensitive data\n",
    "\n",
    "The following code demonstrates secure handling of API keys and proper error handling when using the OpenAI API."
   ]
  },
  {
   "cell_type": "code",
   "execution_count": null,
   "id": "95c0194e-9406-420b-b2b0-c4f5df85f3aa",
   "metadata": {},
   "outputs": [],
   "source": [
    "from openai import OpenAI\n",
    "from dotenv import load_dotenv\n",
    "import os"
   ]
  },
  {
   "cell_type": "code",
   "execution_count": null,
   "id": "05d335d7-60b7-4ad7-a1ec-f8bcbe8e1105",
   "metadata": {},
   "outputs": [],
   "source": [
    "# Load environment variables from .env file\n",
    "load_dotenv()\n",
    "\n",
    "# Get API key and validate it exists\n",
    "api_key = os.getenv(\"OPENAI_API_KEY\")\n",
    "if not api_key:\n",
    "    raise ValueError(\"OPENAI_API_KEY not found in environment variables. Please check your .env file.\")\n",
    "\n",
    "# Initialize the OpenAI client\n",
    "client = OpenAI(api_key=api_key)"
   ]
  },
  {
   "cell_type": "code",
   "execution_count": null,
   "id": "4dc8db64-228b-4f0a-a75c-11fc9712bf09",
   "metadata": {},
   "outputs": [],
   "source": [
    "try:\n",
    "    response = client.chat.completions.create(\n",
    "        model=\"gpt-4\",  # Make sure to use an available model\n",
    "        messages=[\n",
    "            {\"role\": \"user\", \"content\": \"top 10 movies of all time:\"}\n",
    "        ],\n",
    "        max_tokens=100\n",
    "    )\n",
    "    # Print the response\n",
    "    print(response.choices[0].message.content)\n",
    "\n",
    "except openai.RateLimitError:\n",
    "    print(\"Rate limit exceeded. Please wait a while before trying again.\")\n",
    "except openai.APIError as e:\n",
    "    print(f\"OpenAI API error occurred: {str(e)}\")\n",
    "except Exception as e:\n",
    "    print(f\"An unexpected error occurred: {str(e)}\")"
   ]
  },
  {
   "cell_type": "code",
   "execution_count": null,
   "id": "e578b0d3-a36e-4c86-9709-f62acae1861b",
   "metadata": {},
   "outputs": [
    {
     "name": "stdout",
     "output_type": "stream",
     "text": [
      "1. Paris, France\n",
      "2. Santorini, Greece\n",
      "3. Venice, Italy\n",
      "4. Maui, Hawaii\n",
      "5. Bora Bora, French Polynesia\n",
      "6. St. Lucia, Caribbean\n",
      "7. Queenstown, New Zealand\n",
      "8. Bali, Indonesia\n",
      "9. Kyoto, Japan\n",
      "10. Barcelona, Spain\n",
      "\n"
     ]
    }
   ],
   "source": [
    "try:\n",
    "    response = client.chat.completions.create(\n",
    "        model=\"gpt-4\",  # Make sure to use an available model\n",
    "        messages=[\n",
    "            {\"role\": \"user\", \"content\": \"top cities names only for honeymoon experience based on beauty and prices:\"}\n",
    "        ],\n",
    "        max_tokens=100,\n",
    "        stop = '11.' # This will stop the response after the 10th item, assuming the model lists them in a numbered format\n",
    "    )\n",
    "    # Print the response\n",
    "    print(response.choices[0].message.content)\n",
    "\n",
    "except openai.RateLimitError:\n",
    "    print(\"Rate limit exceeded. Please wait a while before trying again.\")\n",
    "except openai.APIError as e:\n",
    "    print(f\"OpenAI API error occurred: {str(e)}\")\n",
    "except Exception as e:\n",
    "    print(f\"An unexpected error occurred: {str(e)}\")"
   ]
  },
  {
   "cell_type": "code",
   "execution_count": null,
   "id": "3f3906a5",
   "metadata": {},
   "outputs": [],
   "source": []
  }
 ],
 "metadata": {
  "kernelspec": {
   "display_name": "Python 3 (ipykernel)",
   "language": "python",
   "name": "python3"
  },
  "language_info": {
   "codemirror_mode": {
    "name": "ipython",
    "version": 3
   },
   "file_extension": ".py",
   "mimetype": "text/x-python",
   "name": "python",
   "nbconvert_exporter": "python",
   "pygments_lexer": "ipython3",
   "version": "3.12.11"
  }
 },
 "nbformat": 4,
 "nbformat_minor": 5
}
